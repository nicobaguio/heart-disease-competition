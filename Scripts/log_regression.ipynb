{
 "cells": [
  {
   "cell_type": "code",
   "execution_count": 45,
   "metadata": {},
   "outputs": [],
   "source": [
    "import pandas as pd\n",
    "import os\n",
    "from sklearn.model_selection import train_test_split\n",
    "from sklearn.linear_model import LogisticRegression\n",
    "from sklearn.metrics import log_loss\n",
    "from math import sqrt\n",
    "import numpy as np\n",
    "\n",
    "# Define constants\n",
    "data_path = \"../Data\"\n",
    "seed = 1\n",
    "submission_path = \"../Submissions\""
   ]
  },
  {
   "cell_type": "code",
   "execution_count": 46,
   "metadata": {},
   "outputs": [],
   "source": [
    "# Read initial training data\n",
    "train_y = pd.read_csv(data_path + \"/train_labels.csv\")\n",
    "train_y.set_index(\"patient_id\", inplace=True)\n",
    "val = train_y['heart_disease_present']\n",
    "all_features = pd.read_csv(data_path + \"/train_values.csv\")\n",
    "all_features.set_index(\"patient_id\", inplace=True)"
   ]
  },
  {
   "cell_type": "code",
   "execution_count": 47,
   "metadata": {},
   "outputs": [],
   "source": [
    "# Read test data\n",
    "submit_X = pd.read_csv(data_path + \"/test_values.csv\")\n",
    "submit_X.set_index(\"patient_id\", inplace=True)"
   ]
  },
  {
   "cell_type": "code",
   "execution_count": 48,
   "metadata": {},
   "outputs": [],
   "source": [
    "# Define utility functions\n",
    "def coefficients(model, features):\n",
    "    return pd.DataFrame(np.transpose(model.coef_), index=features, columns=[\"coef\"])\n",
    "\n",
    "def create_submission(file_name, train_X, train_y, pred_X, pred_index):\n",
    "    model = LogisticRegression(random_state = 1)\n",
    "    model.fit(train_X, train_y)\n",
    "    predictions = model.predict_proba(pred_X)\n",
    "    submission = pd.DataFrame(predictions[:,0], index = pred_index, columns=['heart_disease_present'])\n",
    "    submission.reset_index(inplace=True)\n",
    "    submission.to_csv(submission_path + \"/\" + file_name, index=False)\n",
    "    \n",
    "    return model, submission"
   ]
  },
  {
   "cell_type": "code",
   "execution_count": 49,
   "metadata": {},
   "outputs": [
    {
     "data": {
      "text/plain": [
       "11.193158998231711"
      ]
     },
     "execution_count": 49,
     "metadata": {},
     "output_type": "execute_result"
    }
   ],
   "source": [
    "# Model iterations\n",
    "\n",
    "features1 = [\n",
    "    \"max_heart_rate_achieved\", \"age\", \"oldpeak_eq_st_depression\"\n",
    "]\n",
    "\n",
    "X1 = all_features[features1]\n",
    "\n",
    "train_X1, test_X1, train_y1, test_y1 = train_test_split(\n",
    "    X1, val, test_size = 0.6, random_state=1\n",
    ")\n",
    "\n",
    "model = LogisticRegression(random_state = 1)\n",
    "model.fit(train_X1, train_y1)\n",
    "pred1 = model.predict(test_X1)\n",
    "logloss = log_loss(test_y1, pred1)\n",
    "logloss"
   ]
  },
  {
   "cell_type": "code",
   "execution_count": 50,
   "metadata": {},
   "outputs": [
    {
     "data": {
      "text/html": [
       "<div>\n",
       "<style scoped>\n",
       "    .dataframe tbody tr th:only-of-type {\n",
       "        vertical-align: middle;\n",
       "    }\n",
       "\n",
       "    .dataframe tbody tr th {\n",
       "        vertical-align: top;\n",
       "    }\n",
       "\n",
       "    .dataframe thead th {\n",
       "        text-align: right;\n",
       "    }\n",
       "</style>\n",
       "<table border=\"1\" class=\"dataframe\">\n",
       "  <thead>\n",
       "    <tr style=\"text-align: right;\">\n",
       "      <th></th>\n",
       "      <th>coef</th>\n",
       "    </tr>\n",
       "  </thead>\n",
       "  <tbody>\n",
       "    <tr>\n",
       "      <th>max_heart_rate_achieved</th>\n",
       "      <td>-0.023543</td>\n",
       "    </tr>\n",
       "    <tr>\n",
       "      <th>age</th>\n",
       "      <td>0.024027</td>\n",
       "    </tr>\n",
       "    <tr>\n",
       "      <th>oldpeak_eq_st_depression</th>\n",
       "      <td>0.686174</td>\n",
       "    </tr>\n",
       "  </tbody>\n",
       "</table>\n",
       "</div>"
      ],
      "text/plain": [
       "                              coef\n",
       "max_heart_rate_achieved  -0.023543\n",
       "age                       0.024027\n",
       "oldpeak_eq_st_depression  0.686174"
      ]
     },
     "execution_count": 50,
     "metadata": {},
     "output_type": "execute_result"
    }
   ],
   "source": [
    "coefficients(model, features1)"
   ]
  },
  {
   "cell_type": "code",
   "execution_count": 51,
   "metadata": {},
   "outputs": [
    {
     "data": {
      "text/plain": [
       "10.87337032045347"
      ]
     },
     "execution_count": 51,
     "metadata": {},
     "output_type": "execute_result"
    }
   ],
   "source": [
    "features2 = features1 + [\n",
    "    'resting_ekg_results', 'serum_cholesterol_mg_per_dl', 'num_major_vessels', 'resting_blood_pressure'\n",
    "]\n",
    "\n",
    "X2 = all_features[features2]\n",
    "\n",
    "train_X2, test_X2, train_y2, test_y2 = train_test_split(\n",
    "    X2, val, test_size = 0.6, random_state=1\n",
    ")\n",
    "\n",
    "model = LogisticRegression(random_state = 1)\n",
    "model.fit(train_X2, train_y2)\n",
    "pred2 = model.predict(test_X2)\n",
    "logloss = log_loss(test_y2, pred2)\n",
    "logloss"
   ]
  },
  {
   "cell_type": "code",
   "execution_count": 52,
   "metadata": {},
   "outputs": [
    {
     "data": {
      "text/html": [
       "<div>\n",
       "<style scoped>\n",
       "    .dataframe tbody tr th:only-of-type {\n",
       "        vertical-align: middle;\n",
       "    }\n",
       "\n",
       "    .dataframe tbody tr th {\n",
       "        vertical-align: top;\n",
       "    }\n",
       "\n",
       "    .dataframe thead th {\n",
       "        text-align: right;\n",
       "    }\n",
       "</style>\n",
       "<table border=\"1\" class=\"dataframe\">\n",
       "  <thead>\n",
       "    <tr style=\"text-align: right;\">\n",
       "      <th></th>\n",
       "      <th>coef</th>\n",
       "    </tr>\n",
       "  </thead>\n",
       "  <tbody>\n",
       "    <tr>\n",
       "      <th>max_heart_rate_achieved</th>\n",
       "      <td>-0.041904</td>\n",
       "    </tr>\n",
       "    <tr>\n",
       "      <th>age</th>\n",
       "      <td>-0.055654</td>\n",
       "    </tr>\n",
       "    <tr>\n",
       "      <th>oldpeak_eq_st_depression</th>\n",
       "      <td>0.520261</td>\n",
       "    </tr>\n",
       "    <tr>\n",
       "      <th>resting_ekg_results</th>\n",
       "      <td>0.232879</td>\n",
       "    </tr>\n",
       "    <tr>\n",
       "      <th>serum_cholesterol_mg_per_dl</th>\n",
       "      <td>-0.001730</td>\n",
       "    </tr>\n",
       "    <tr>\n",
       "      <th>num_major_vessels</th>\n",
       "      <td>1.030687</td>\n",
       "    </tr>\n",
       "    <tr>\n",
       "      <th>resting_blood_pressure</th>\n",
       "      <td>0.054217</td>\n",
       "    </tr>\n",
       "  </tbody>\n",
       "</table>\n",
       "</div>"
      ],
      "text/plain": [
       "                                 coef\n",
       "max_heart_rate_achieved     -0.041904\n",
       "age                         -0.055654\n",
       "oldpeak_eq_st_depression     0.520261\n",
       "resting_ekg_results          0.232879\n",
       "serum_cholesterol_mg_per_dl -0.001730\n",
       "num_major_vessels            1.030687\n",
       "resting_blood_pressure       0.054217"
      ]
     },
     "execution_count": 52,
     "metadata": {},
     "output_type": "execute_result"
    }
   ],
   "source": [
    "coefficients(model, features2)"
   ]
  },
  {
   "cell_type": "code",
   "execution_count": 53,
   "metadata": {},
   "outputs": [
    {
     "data": {
      "text/plain": [
       "9.913996883438829"
      ]
     },
     "execution_count": 53,
     "metadata": {},
     "output_type": "execute_result"
    }
   ],
   "source": [
    "# features not included: thal, chest_pain_type\n",
    "features3 = features2 + [\n",
    "    'sex', \"slope_of_peak_exercise_st_segment\", \"fasting_blood_sugar_gt_120_mg_per_dl\", \"exercise_induced_angina\"\n",
    "]\n",
    "\n",
    "X3 = all_features[features3]\n",
    "\n",
    "train_X3, test_X3, train_y3, test_y3 = train_test_split(\n",
    "    X3, val, test_size = 0.6, random_state=1\n",
    ")\n",
    "\n",
    "model = LogisticRegression(random_state = 1)\n",
    "model.fit(train_X3, train_y3)\n",
    "pred3 = model.predict(test_X3)\n",
    "logloss = log_loss(test_y3, pred3)\n",
    "logloss"
   ]
  },
  {
   "cell_type": "code",
   "execution_count": 54,
   "metadata": {},
   "outputs": [
    {
     "data": {
      "text/html": [
       "<div>\n",
       "<style scoped>\n",
       "    .dataframe tbody tr th:only-of-type {\n",
       "        vertical-align: middle;\n",
       "    }\n",
       "\n",
       "    .dataframe tbody tr th {\n",
       "        vertical-align: top;\n",
       "    }\n",
       "\n",
       "    .dataframe thead th {\n",
       "        text-align: right;\n",
       "    }\n",
       "</style>\n",
       "<table border=\"1\" class=\"dataframe\">\n",
       "  <thead>\n",
       "    <tr style=\"text-align: right;\">\n",
       "      <th></th>\n",
       "      <th>coef</th>\n",
       "    </tr>\n",
       "  </thead>\n",
       "  <tbody>\n",
       "    <tr>\n",
       "      <th>fasting_blood_sugar_gt_120_mg_per_dl</th>\n",
       "      <td>-0.614819</td>\n",
       "    </tr>\n",
       "    <tr>\n",
       "      <th>age</th>\n",
       "      <td>-0.060972</td>\n",
       "    </tr>\n",
       "    <tr>\n",
       "      <th>max_heart_rate_achieved</th>\n",
       "      <td>-0.045725</td>\n",
       "    </tr>\n",
       "    <tr>\n",
       "      <th>serum_cholesterol_mg_per_dl</th>\n",
       "      <td>0.003565</td>\n",
       "    </tr>\n",
       "    <tr>\n",
       "      <th>resting_ekg_results</th>\n",
       "      <td>0.028390</td>\n",
       "    </tr>\n",
       "    <tr>\n",
       "      <th>resting_blood_pressure</th>\n",
       "      <td>0.043251</td>\n",
       "    </tr>\n",
       "    <tr>\n",
       "      <th>oldpeak_eq_st_depression</th>\n",
       "      <td>0.098412</td>\n",
       "    </tr>\n",
       "    <tr>\n",
       "      <th>slope_of_peak_exercise_st_segment</th>\n",
       "      <td>0.487813</td>\n",
       "    </tr>\n",
       "    <tr>\n",
       "      <th>num_major_vessels</th>\n",
       "      <td>1.185497</td>\n",
       "    </tr>\n",
       "    <tr>\n",
       "      <th>sex</th>\n",
       "      <td>1.461254</td>\n",
       "    </tr>\n",
       "    <tr>\n",
       "      <th>exercise_induced_angina</th>\n",
       "      <td>1.642987</td>\n",
       "    </tr>\n",
       "  </tbody>\n",
       "</table>\n",
       "</div>"
      ],
      "text/plain": [
       "                                          coef\n",
       "fasting_blood_sugar_gt_120_mg_per_dl -0.614819\n",
       "age                                  -0.060972\n",
       "max_heart_rate_achieved              -0.045725\n",
       "serum_cholesterol_mg_per_dl           0.003565\n",
       "resting_ekg_results                   0.028390\n",
       "resting_blood_pressure                0.043251\n",
       "oldpeak_eq_st_depression              0.098412\n",
       "slope_of_peak_exercise_st_segment     0.487813\n",
       "num_major_vessels                     1.185497\n",
       "sex                                   1.461254\n",
       "exercise_induced_angina               1.642987"
      ]
     },
     "execution_count": 54,
     "metadata": {},
     "output_type": "execute_result"
    }
   ],
   "source": [
    "coefficients(model, features3).sort_values(\"coef\")"
   ]
  },
  {
   "cell_type": "code",
   "execution_count": 55,
   "metadata": {},
   "outputs": [
    {
     "data": {
      "text/plain": [
       "['max_heart_rate_achieved',\n",
       " 'age',\n",
       " 'oldpeak_eq_st_depression',\n",
       " 'resting_ekg_results',\n",
       " 'serum_cholesterol_mg_per_dl',\n",
       " 'num_major_vessels',\n",
       " 'resting_blood_pressure',\n",
       " 'sex',\n",
       " 'slope_of_peak_exercise_st_segment',\n",
       " 'fasting_blood_sugar_gt_120_mg_per_dl',\n",
       " 'exercise_induced_angina']"
      ]
     },
     "execution_count": 55,
     "metadata": {},
     "output_type": "execute_result"
    }
   ],
   "source": [
    "features3"
   ]
  },
  {
   "cell_type": "code",
   "execution_count": 56,
   "metadata": {},
   "outputs": [
    {
     "data": {
      "text/plain": [
       "(LogisticRegression(C=1.0, class_weight=None, dual=False, fit_intercept=True,\n",
       "           intercept_scaling=1, max_iter=100, multi_class='ovr', n_jobs=1,\n",
       "           penalty='l2', random_state=1, solver='liblinear', tol=0.0001,\n",
       "           verbose=0, warm_start=False),     patient_id  heart_disease_present\n",
       " 0       bv01fp               0.618963\n",
       " 1       6r9x2j               0.002281\n",
       " 2       bthqr4               0.952715\n",
       " 3       a2kf1z               0.224608\n",
       " 4       pjgqa3               0.896387\n",
       " 5       27oevk               0.954863\n",
       " 6       mcwqgs               0.049414\n",
       " 7       30v796               0.708710\n",
       " 8       0g192k               0.119381\n",
       " 9       w1wgrq               0.657947\n",
       " 10      s8dx1q               0.744653\n",
       " 11      7kf275               0.095256\n",
       " 12      xc17yq               0.873443\n",
       " 13      e68djo               0.118476\n",
       " 14      oyt4ek               0.169919\n",
       " 15      tbo0wx               0.006146\n",
       " 16      f06u72               0.208862\n",
       " 17      ju1wdc               0.611562\n",
       " 18      8265rl               0.767705\n",
       " 19      6jcc1y               0.289864\n",
       " 20      isq8yp               0.870752\n",
       " 21      hlmts5               0.914134\n",
       " 22      ejo7p3               0.348102\n",
       " 23      o63ri2               0.805983\n",
       " 24      mznwxv               0.198870\n",
       " 25      ty4ik8               0.464118\n",
       " 26      1aeaff               0.161317\n",
       " 27      m6zksp               0.017149\n",
       " 28      ewckbx               0.029290\n",
       " 29      z7xkou               0.143079\n",
       " ..         ...                    ...\n",
       " 78      4v0q7o               0.454922\n",
       " 79      k8899q               0.252169\n",
       " 80      08usun               0.891782\n",
       " 81      yt1s1x               0.091300\n",
       " 82      3jsjqk               0.876604\n",
       " 83      5qfar3               0.541463\n",
       " 84      2gbyh9               0.329950\n",
       " 85      z5g5p3               0.565355\n",
       " 86      0z64un               0.771709\n",
       " 87      ebloe5               0.847263\n",
       " 88      vfjppl               0.033970\n",
       " 89      nck22c               0.353186\n",
       " 90      jwqi3k               0.647146\n",
       " 91      24fopx               0.140570\n",
       " 92      i49srr               0.880745\n",
       " 93      p5orwa               0.279192\n",
       " 94      6219kl               0.670182\n",
       " 95      pwigd8               0.096972\n",
       " 96      igwnqo               0.423296\n",
       " 97      wze8qm               0.975820\n",
       " 98      usnkhx               0.029273\n",
       " 99      1jruhz               0.124968\n",
       " 100     97v1yz               0.786721\n",
       " 101     8c36yw               0.462314\n",
       " 102     sqddbc               0.392320\n",
       " 103     ldg4b9               0.723493\n",
       " 104     55xksg               0.372437\n",
       " 105     k7ef7h               0.197505\n",
       " 106     mxabaz               0.137272\n",
       " 107     ascl42               0.587537\n",
       " \n",
       " [108 rows x 2 columns])"
      ]
     },
     "execution_count": 56,
     "metadata": {},
     "output_type": "execute_result"
    }
   ],
   "source": [
    "create_submission(\n",
    "    \"submission4.csv\",\n",
    "    all_features[features3],\n",
    "    val,\n",
    "    test_X[features3],\n",
    "    test_X.index\n",
    ")"
   ]
  },
  {
   "cell_type": "code",
   "execution_count": 57,
   "metadata": {},
   "outputs": [
    {
     "data": {
      "text/plain": [
       "9.913996883438829"
      ]
     },
     "execution_count": 57,
     "metadata": {},
     "output_type": "execute_result"
    }
   ],
   "source": [
    "# features not included: thal, chest_pain_type, resting_ekg_results\n",
    "features4 = [feature for feature in features3 if feature != \"resting_ekg_results\"]\n",
    "\n",
    "X4 = all_features[features4]\n",
    "\n",
    "train_X4, test_X4, train_y4, test_y4 = train_test_split(\n",
    "    X4, val, test_size = 0.6, random_state=1\n",
    ")\n",
    "\n",
    "model = LogisticRegression(random_state = 1)\n",
    "model.fit(train_X4, train_y4)\n",
    "pred4 = model.predict(test_X4)\n",
    "logloss = log_loss(test_y4, pred4)\n",
    "logloss"
   ]
  },
  {
   "cell_type": "code",
   "execution_count": 58,
   "metadata": {},
   "outputs": [
    {
     "data": {
      "text/plain": [
       "10.873392531493197"
      ]
     },
     "execution_count": 58,
     "metadata": {},
     "output_type": "execute_result"
    }
   ],
   "source": [
    "features = [\n",
    "    \"sex\", \"exercise_induced_angina\", \"num_major_vessels\", \"fasting_blood_sugar_gt_120_mg_per_dl\"\n",
    "]\n",
    "\n",
    "X = all_features[features]\n",
    "\n",
    "train_X, test_X, train_y, test_y = train_test_split(\n",
    "    X, val, test_size = 0.6, random_state=1\n",
    ")\n",
    "\n",
    "model = LogisticRegression(random_state = 1)\n",
    "model.fit(train_X, train_y)\n",
    "pred = model.predict(test_X)\n",
    "logloss = log_loss(test_y, pred)\n",
    "logloss"
   ]
  },
  {
   "cell_type": "code",
   "execution_count": 59,
   "metadata": {},
   "outputs": [
    {
     "data": {
      "text/html": [
       "<div>\n",
       "<style scoped>\n",
       "    .dataframe tbody tr th:only-of-type {\n",
       "        vertical-align: middle;\n",
       "    }\n",
       "\n",
       "    .dataframe tbody tr th {\n",
       "        vertical-align: top;\n",
       "    }\n",
       "\n",
       "    .dataframe thead th {\n",
       "        text-align: right;\n",
       "    }\n",
       "</style>\n",
       "<table border=\"1\" class=\"dataframe\">\n",
       "  <thead>\n",
       "    <tr style=\"text-align: right;\">\n",
       "      <th></th>\n",
       "      <th>coef</th>\n",
       "    </tr>\n",
       "  </thead>\n",
       "  <tbody>\n",
       "    <tr>\n",
       "      <th>sex</th>\n",
       "      <td>1.129217</td>\n",
       "    </tr>\n",
       "    <tr>\n",
       "      <th>exercise_induced_angina</th>\n",
       "      <td>2.051349</td>\n",
       "    </tr>\n",
       "    <tr>\n",
       "      <th>num_major_vessels</th>\n",
       "      <td>0.674320</td>\n",
       "    </tr>\n",
       "    <tr>\n",
       "      <th>fasting_blood_sugar_gt_120_mg_per_dl</th>\n",
       "      <td>-0.677821</td>\n",
       "    </tr>\n",
       "  </tbody>\n",
       "</table>\n",
       "</div>"
      ],
      "text/plain": [
       "                                          coef\n",
       "sex                                   1.129217\n",
       "exercise_induced_angina               2.051349\n",
       "num_major_vessels                     0.674320\n",
       "fasting_blood_sugar_gt_120_mg_per_dl -0.677821"
      ]
     },
     "execution_count": 59,
     "metadata": {},
     "output_type": "execute_result"
    }
   ],
   "source": [
    "coefficients(model, features)"
   ]
  },
  {
   "cell_type": "code",
   "execution_count": 60,
   "metadata": {},
   "outputs": [
    {
     "data": {
      "text/plain": [
       "8.954571620664824"
      ]
     },
     "execution_count": 60,
     "metadata": {},
     "output_type": "execute_result"
    }
   ],
   "source": [
    "X = pd.get_dummies(all_features, columns=[\"thal\", \"chest_pain_type\"], drop_first=True)\n",
    "\n",
    "train_X, test_X, train_y, test_y = train_test_split(\n",
    "    X, val, test_size = 0.6, random_state=1\n",
    ")\n",
    "\n",
    "model = LogisticRegression(random_state = 1)\n",
    "model.fit(train_X, train_y)\n",
    "pred = model.predict(test_X)\n",
    "logloss = log_loss(test_y, pred)\n",
    "logloss"
   ]
  },
  {
   "cell_type": "code",
   "execution_count": 61,
   "metadata": {},
   "outputs": [
    {
     "data": {
      "text/html": [
       "<div>\n",
       "<style scoped>\n",
       "    .dataframe tbody tr th:only-of-type {\n",
       "        vertical-align: middle;\n",
       "    }\n",
       "\n",
       "    .dataframe tbody tr th {\n",
       "        vertical-align: top;\n",
       "    }\n",
       "\n",
       "    .dataframe thead th {\n",
       "        text-align: right;\n",
       "    }\n",
       "</style>\n",
       "<table border=\"1\" class=\"dataframe\">\n",
       "  <thead>\n",
       "    <tr style=\"text-align: right;\">\n",
       "      <th></th>\n",
       "      <th>coef</th>\n",
       "    </tr>\n",
       "  </thead>\n",
       "  <tbody>\n",
       "    <tr>\n",
       "      <th>slope_of_peak_exercise_st_segment</th>\n",
       "      <td>0.457783</td>\n",
       "    </tr>\n",
       "    <tr>\n",
       "      <th>resting_blood_pressure</th>\n",
       "      <td>0.048374</td>\n",
       "    </tr>\n",
       "    <tr>\n",
       "      <th>num_major_vessels</th>\n",
       "      <td>1.091505</td>\n",
       "    </tr>\n",
       "    <tr>\n",
       "      <th>fasting_blood_sugar_gt_120_mg_per_dl</th>\n",
       "      <td>-0.393244</td>\n",
       "    </tr>\n",
       "    <tr>\n",
       "      <th>resting_ekg_results</th>\n",
       "      <td>0.313188</td>\n",
       "    </tr>\n",
       "    <tr>\n",
       "      <th>serum_cholesterol_mg_per_dl</th>\n",
       "      <td>0.001332</td>\n",
       "    </tr>\n",
       "    <tr>\n",
       "      <th>oldpeak_eq_st_depression</th>\n",
       "      <td>-0.008400</td>\n",
       "    </tr>\n",
       "    <tr>\n",
       "      <th>sex</th>\n",
       "      <td>0.715752</td>\n",
       "    </tr>\n",
       "    <tr>\n",
       "      <th>age</th>\n",
       "      <td>-0.058416</td>\n",
       "    </tr>\n",
       "    <tr>\n",
       "      <th>max_heart_rate_achieved</th>\n",
       "      <td>-0.047832</td>\n",
       "    </tr>\n",
       "    <tr>\n",
       "      <th>exercise_induced_angina</th>\n",
       "      <td>1.103427</td>\n",
       "    </tr>\n",
       "    <tr>\n",
       "      <th>thal_normal</th>\n",
       "      <td>-0.556527</td>\n",
       "    </tr>\n",
       "    <tr>\n",
       "      <th>thal_reversible_defect</th>\n",
       "      <td>1.175850</td>\n",
       "    </tr>\n",
       "    <tr>\n",
       "      <th>chest_pain_type_2</th>\n",
       "      <td>-0.439906</td>\n",
       "    </tr>\n",
       "    <tr>\n",
       "      <th>chest_pain_type_3</th>\n",
       "      <td>-0.667138</td>\n",
       "    </tr>\n",
       "    <tr>\n",
       "      <th>chest_pain_type_4</th>\n",
       "      <td>1.375720</td>\n",
       "    </tr>\n",
       "  </tbody>\n",
       "</table>\n",
       "</div>"
      ],
      "text/plain": [
       "                                          coef\n",
       "slope_of_peak_exercise_st_segment     0.457783\n",
       "resting_blood_pressure                0.048374\n",
       "num_major_vessels                     1.091505\n",
       "fasting_blood_sugar_gt_120_mg_per_dl -0.393244\n",
       "resting_ekg_results                   0.313188\n",
       "serum_cholesterol_mg_per_dl           0.001332\n",
       "oldpeak_eq_st_depression             -0.008400\n",
       "sex                                   0.715752\n",
       "age                                  -0.058416\n",
       "max_heart_rate_achieved              -0.047832\n",
       "exercise_induced_angina               1.103427\n",
       "thal_normal                          -0.556527\n",
       "thal_reversible_defect                1.175850\n",
       "chest_pain_type_2                    -0.439906\n",
       "chest_pain_type_3                    -0.667138\n",
       "chest_pain_type_4                     1.375720"
      ]
     },
     "execution_count": 61,
     "metadata": {},
     "output_type": "execute_result"
    }
   ],
   "source": [
    "coefficients(model, X.columns.tolist())"
   ]
  },
  {
   "cell_type": "code",
   "execution_count": 68,
   "metadata": {},
   "outputs": [],
   "source": [
    "submit_X_transform = pd.get_dummies(submit_X, columns=[\"thal\", \"chest_pain_type\"], drop_first=True)\n",
    "\n",
    "m,s = create_submission(\n",
    "    \"submission5.csv\",\n",
    "    X,\n",
    "    val,\n",
    "    submit_X_transform,\n",
    "    submit_X_transform.index\n",
    ")"
   ]
  }
 ],
 "metadata": {
  "kernelspec": {
   "display_name": "Python 3",
   "language": "python",
   "name": "python3"
  },
  "language_info": {
   "codemirror_mode": {
    "name": "ipython",
    "version": 3
   },
   "file_extension": ".py",
   "mimetype": "text/x-python",
   "name": "python",
   "nbconvert_exporter": "python",
   "pygments_lexer": "ipython3",
   "version": "3.6.4"
  }
 },
 "nbformat": 4,
 "nbformat_minor": 2
}
